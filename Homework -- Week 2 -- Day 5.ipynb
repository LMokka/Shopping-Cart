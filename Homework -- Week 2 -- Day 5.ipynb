{
 "cells": [
  {
   "cell_type": "markdown",
   "id": "1c059a24",
   "metadata": {},
   "source": [
    "Build a shopping cart program with the following capabilities:\n",
    "\n",
    "1) Takes in an input\n",
    "2) Stores user input into a dictionary or list\n",
    "3) The User can add or delete items\n",
    "4) The User can see current shopping list\n",
    "5) The program Loops until user 'quits'\n",
    "6) Upon quiting the program, prints out a receipt of the items with total and quantity."
   ]
  },
  {
   "cell_type": "code",
   "execution_count": 11,
   "id": "3718e2d1",
   "metadata": {},
   "outputs": [
    {
     "name": "stdout",
     "output_type": "stream",
     "text": [
      "Enter name of item  b\n",
      "Enter quantity of item  8\n",
      "Enter price of item  10\n",
      "Item Name  Quantity   Price $    Total Price $\n",
      "b          8          10.0       80.0      \n",
      "Would you like to delete items from your shopping cart Y or N?  N\n",
      "Would you like to continue adding items to your shopping cart?  Y\n",
      "Enter name of item  c\n",
      "Enter quantity of item  10\n",
      "Enter price of item  10\n",
      "Item Name  Quantity   Price $    Total Price $\n",
      "b          8          10.0       80.0      \n",
      "c          10         10.0       100.0     \n",
      "Would you like to delete items from your shopping cart Y or N?  N\n",
      "Would you like to continue adding items to your shopping cart?  N\n",
      "The total value of items in your shopping cart is $ 180.0\n",
      "Item Name  Quantity   Price $    Total Price $\n",
      "b          8          10.0       80.0      \n",
      "c          10         10.0       100.0     \n"
     ]
    }
   ],
   "source": [
    "from IPython.display import clear_output\n",
    "\n",
    "def shopping_cart():\n",
    "    shopping_cart = {}\n",
    "    Add = 'Y'\n",
    "    while Add == 'Y':  \n",
    "        name = input(\"Enter name of item  \").lower()\n",
    "        if name in shopping_cart.keys():\n",
    "            print(\"This item is already in your shopping cart \") #?How do we write code to overwrite the item in the shopping list\n",
    "            continue\n",
    "    \n",
    "        while True:\n",
    "            try:        \n",
    "                quantity = int(input(\"Enter quantity of item  \"))\n",
    "                break\n",
    "            except ValueError:\n",
    "                print(\"Please only input numbers\") \n",
    "                continue\n",
    "        \n",
    "        while True:\n",
    "            try:        \n",
    "                price = float(input(\"Enter price of item  \"))\n",
    "                break\n",
    "            except ValueError:\n",
    "                print(\"Please only input numbers\") \n",
    "                continue\n",
    "    \n",
    "    \n",
    "        total_price = quantity*price\n",
    "        shopping_cart[name] = [quantity,price,total_price]\n",
    "        \n",
    "        def print_shopping_cart():\n",
    "            print(\"{:<10} {:<10} {:<10} {:<10}\".format('Item Name','Quantity','Price $','Total Price $'))\n",
    "            for k,v in shopping_cart.items():\n",
    "                name = k\n",
    "                quantity, price, total_price = v\n",
    "                print(\"{:<10} {:<10} {:<10} {:<10}\".format(name, quantity, price, total_price))\n",
    "        \n",
    "        print_shopping_cart()\n",
    "        \n",
    "        Del = input(\"Would you like to delete items from your shopping cart Y or N?  \").upper()\n",
    "        if Del == 'Y':\n",
    "            deleted_key = input(\"Enter the name of the item you would like to delete from your shopping cart  \").lower()\n",
    "            del shopping_cart[deleted_key]\n",
    "            print_shopping_cart()\n",
    "            \n",
    "        Add = input(\"Would you like to continue adding items to your shopping cart?  \")\n",
    "        if Add == 'Y':\n",
    "            continue\n",
    "        \n",
    "        else:\n",
    "            total = 0\n",
    "            for t in shopping_cart.items():\n",
    "                total = total + (t[1][2])\n",
    "            \n",
    "            print(\"The total value of items in your shopping cart is $\",total) #How can we print spaces in between items#\n",
    "            \n",
    "            return print_shopping_cart()\n",
    "            \n",
    "            break\n",
    "    \n",
    "shopping_cart()"
   ]
  },
  {
   "cell_type": "code",
   "execution_count": null,
   "id": "4ea0b41e",
   "metadata": {},
   "outputs": [],
   "source": [
    "help (dict)\n"
   ]
  },
  {
   "cell_type": "code",
   "execution_count": null,
   "id": "c7d4bbba",
   "metadata": {},
   "outputs": [],
   "source": []
  },
  {
   "cell_type": "code",
   "execution_count": null,
   "id": "6783ab04",
   "metadata": {},
   "outputs": [],
   "source": []
  }
 ],
 "metadata": {
  "kernelspec": {
   "display_name": "Python 3",
   "language": "python",
   "name": "python3"
  },
  "language_info": {
   "codemirror_mode": {
    "name": "ipython",
    "version": 3
   },
   "file_extension": ".py",
   "mimetype": "text/x-python",
   "name": "python",
   "nbconvert_exporter": "python",
   "pygments_lexer": "ipython3",
   "version": "3.8.8"
  }
 },
 "nbformat": 4,
 "nbformat_minor": 5
}
